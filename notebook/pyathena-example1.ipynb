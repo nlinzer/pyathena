{
 "cells": [
  {
   "cell_type": "code",
   "execution_count": 1,
   "metadata": {},
   "outputs": [],
   "source": [
    "import sys\n",
    "import os\n",
    "import os.path as osp\n",
    "import numpy as np\n",
    "import matplotlib as mpl\n",
    "import matplotlib.pyplot as plt\n",
    "from matplotlib.colors import Normalize, LogNorm\n",
    "\n",
    "sys.path.insert(0,'..')\n",
    "import pyathena as pa"
   ]
  },
  {
   "cell_type": "markdown",
   "metadata": {},
   "source": [
    "__LoadSim class__"
   ]
  },
  {
   "cell_type": "code",
   "execution_count": 2,
   "metadata": {
    "scrolled": false
   },
   "outputs": [
    {
     "name": "stdout",
     "output_type": "stream",
     "text": [
      "Help on class LoadSim in module pyathena.load_sim:\n",
      "\n",
      "class LoadSim(builtins.object)\n",
      " |  LoadSim(basedir, savdir=None, load_method='pyathena', verbose=True)\n",
      " |  \n",
      " |  Class to prepare Athena simulation data analysis. Read input parameters,\n",
      " |  find simulation output (vtk, starpar_vtk, hst, sn, zprof) files.\n",
      " |  \n",
      " |  Properties\n",
      " |      basedir : str\n",
      " |          base directory of simulation output\n",
      " |      basename : str\n",
      " |          basename (tail) of basedir\n",
      " |      files : dict\n",
      " |          output file paths for vtk, starpar, hst, sn, zprof\n",
      " |      problem_id : str\n",
      " |          prefix for (vtk, starpar, hst, zprof) output\n",
      " |      par : dict\n",
      " |          input parameters and configure options read from log file\n",
      " |      ds : AthenaDataSet or yt DataSet\n",
      " |          class for reading vtk file\n",
      " |      domain : dict\n",
      " |          info about dimension, cell size, time, etc.\n",
      " |      load_method : str\n",
      " |          'pyathena' or 'yt' or 'pyathenaclassic'\n",
      " |      num : list of int\n",
      " |          vtk output numbers\n",
      " |  \n",
      " |  Methods\n",
      " |      load_vtk() :\n",
      " |          reads vtk file using pythena or yt and returns DataSet object\n",
      " |      load_starpar_vtk() :\n",
      " |          reads starpar vtk file and returns pandas DataFrame object\n",
      " |      print_all_properties() :\n",
      " |          prints all attributes and callable methods\n",
      " |  \n",
      " |  Methods defined here:\n",
      " |  \n",
      " |  __init__(self, basedir, savdir=None, load_method='pyathena', verbose=True)\n",
      " |      The constructor for LoadSim class.\n",
      " |      \n",
      " |      Parameters\n",
      " |      ----------\n",
      " |      basedir : str\n",
      " |          Name of the directory where all data is stored\n",
      " |      savdir : str\n",
      " |          Name of the directory where pickled data and figures will be saved.\n",
      " |          Default value is basedir.\n",
      " |      load_method : str\n",
      " |          Load vtk using 'pyathena', 'pythena_classic', or 'yt'. \n",
      " |          Default value is 'pyathena'.\n",
      " |          If None, savdir=basedir. Default value is None.\n",
      " |      verbose : bool or str or int\n",
      " |          Print verbose messages using logger. If True/False, set logger\n",
      " |          level to 'DEBUG'/'WARNING'. If string, it should be one of the string\n",
      " |          representation of python logging package:\n",
      " |          ('NOTSET', 'DEBUG', 'INFO', 'WARNING', 'ERROR', 'CRITICAL')\n",
      " |          Numerical values from 0 ('NOTSET') to 50 ('CRITICAL') are also\n",
      " |          accepted.\n",
      " |      \n",
      " |      Examples\n",
      " |      --------\n",
      " |      >>> s = LoadSim('/Users/jgkim/Documents/R4_8pc.RT.nowind', verbose=True)\n",
      " |      LoadSim-INFO: basedir: /Users/jgkim/Documents/R4_8pc.RT.nowind\n",
      " |      LoadSim-INFO: athinput: /Users/jgkim/Documents/R4_8pc.RT.nowind/out.txt\n",
      " |      LoadSim-INFO: problem_id: R4\n",
      " |      LoadSim-INFO: hst: /Users/jgkim/Documents/R4_8pc.RT.nowind/hst/R4.hst\n",
      " |      LoadSim-INFO: sn: /Users/jgkim/Documents/R4_8pc.RT.nowind/hst/R4.sn\n",
      " |      LoadSim-WARNING: No vtk files are found in /Users/jgkim/Documents/R4_8pc.RT.nowind.\n",
      " |      LoadSim-INFO: starpar: /Users/jgkim/Documents/R4_8pc.RT.nowind/starpar nums: 0-600\n",
      " |      LoadSim-INFO: zprof: /Users/jgkim/Documents/R4_8pc.RT.nowind/zprof nums: 0-600\n",
      " |      LoadSim-INFO: timeit: /Users/jgkim/Documents/R4_8pc.RT.nowind/timeit.txt\n",
      " |  \n",
      " |  load_starpar_vtk(self, num=None, ivtk=None, force_override=False, verbose=False)\n",
      " |      Function to read Athena starpar_vtk file using pythena and\n",
      " |      return DataFrame object.\n",
      " |      \n",
      " |      Parameters\n",
      " |      ----------\n",
      " |      num : int\n",
      " |         Snapshot number, e.g., /basedir/starpar/problem_id.xxxx.starpar.vtk\n",
      " |      ivtk : int\n",
      " |         Read i-th file in the vtk file list. Overrides num if both are given.\n",
      " |      force_override : bool\n",
      " |         Flag to force read of starpar_vtk file even when pickle exists\n",
      " |      \n",
      " |      Returns\n",
      " |      -------\n",
      " |      sp : Pandas DataFrame object\n",
      " |  \n",
      " |  load_vtk(self, num=None, ivtk=None, id0=False, load_method=None)\n",
      " |      Function to read Athena vtk file using pythena or yt and \n",
      " |      return DataSet object.\n",
      " |      \n",
      " |      Parameters\n",
      " |      ----------\n",
      " |      num : int\n",
      " |         Snapshot number, e.g., /basedir/vtk/problem_id.xxxx.vtk\n",
      " |      ivtk : int\n",
      " |         Read i-th file in the vtk file list. Overrides num if both are given.\n",
      " |      id0 : bool\n",
      " |         Read vtk file in /basedir/id0. Default value is False.\n",
      " |      load_method : str\n",
      " |         'pyathena', 'pyathena_classic' or 'yt'\n",
      " |      \n",
      " |      Returns\n",
      " |      -------\n",
      " |      ds : AthenaDataSet or yt datasets\n",
      " |  \n",
      " |  print_all_properties(self)\n",
      " |      Print all attributes and callable methods\n",
      " |  \n",
      " |  ----------------------------------------------------------------------\n",
      " |  Data descriptors defined here:\n",
      " |  \n",
      " |  __dict__\n",
      " |      dictionary for instance variables (if defined)\n",
      " |  \n",
      " |  __weakref__\n",
      " |      list of weak references to the object (if defined)\n",
      " |  \n",
      " |  ----------------------------------------------------------------------\n",
      " |  Data and other attributes defined here:\n",
      " |  \n",
      " |  Decorators = <class 'pyathena.load_sim.LoadSim.Decorators'>\n",
      " |      Class containing a collection of decorators for fast reading of \n",
      " |      analysis output, (reprocessed) hst, and zprof. Used in child class.\n",
      "\n"
     ]
    }
   ],
   "source": [
    "help(pa.LoadSim)"
   ]
  },
  {
   "cell_type": "code",
   "execution_count": 3,
   "metadata": {
    "scrolled": true
   },
   "outputs": [
    {
     "name": "stderr",
     "output_type": "stream",
     "text": [
      "LoadSim-INFO: savdir : /perseus/scratch/gpfs/jk11/GC_WIND/test\n",
      "LoadSim-INFO: basedir: /perseus/scratch/gpfs/jk11/GC_WIND/test\n",
      "LoadSim-INFO: athinput: /perseus/scratch/gpfs/jk11/GC_WIND/test/out.txt\n",
      "LoadSim-INFO: problem_id: cloud\n",
      "LoadSim-INFO: hst: /perseus/scratch/gpfs/jk11/GC_WIND/test/id0/cloud.hst\n",
      "LoadSim-INFO: sn: /perseus/scratch/gpfs/jk11/GC_WIND/test/id0/cloud.sn\n",
      "LoadSim-INFO: vtk in id0: /perseus/scratch/gpfs/jk11/GC_WIND/test/id0 nums: 0-100\n",
      "LoadSim-INFO: timeit: /perseus/scratch/gpfs/jk11/GC_WIND/test/timeit.txt\n"
     ]
    }
   ],
   "source": [
    "s = pa.LoadSim('/perseus/scratch/gpfs/jk11/GC_WIND/test/')"
   ]
  },
  {
   "cell_type": "code",
   "execution_count": 4,
   "metadata": {},
   "outputs": [],
   "source": [
    "# Read without verbose message\n",
    "s = pa.LoadSim('/perseus/scratch/gpfs/jk11/GC_WIND/test/', verbose=False)"
   ]
  },
  {
   "cell_type": "code",
   "execution_count": 5,
   "metadata": {},
   "outputs": [
    {
     "name": "stdout",
     "output_type": "stream",
     "text": [
      "Attributes:\n",
      " ['basedir', 'basename', 'load_method', 'loglevel_def', 'logger', 'savdir', '_out_fmt_def', 'files', 'par', 'out_fmt', 'problem_id', 'nums', 'nums_id0', 'domain']\n",
      "\n",
      "Methods:\n",
      "Decorators: Class containing a collection of decorators for fast reading of \n",
      "        analysis output, (reprocessed) hst, and zprof. Used in child class.\n",
      "        \n",
      "-------------------------\n",
      "_find_files: Function to find all output files under basedir and create \"files\" dictionary.\n",
      "\n",
      "        hst: problem_id.hst\n",
      "        sn: problem_id.sn (file format identical to hst)\n",
      "        vtk: problem_id.num.vtk\n",
      "        starpar_vtk: problem_id.num.starpar.vtk\n",
      "        zprof: problem_id.num.phase.zprof\n",
      "        timeit: timtit.txt\n",
      "        \n",
      "-------------------------\n",
      "_get_domain_from_par: Get domain info from par['domain1']. Time is set to None.\n",
      "        \n",
      "-------------------------\n",
      "_get_fvtk: Get vtk file path\n",
      "        \n",
      "-------------------------\n",
      "_get_logger: Function to set logger and default verbosity.\n",
      "\n",
      "        Parameters\n",
      "        ----------\n",
      "        verbose: bool or str or int\n",
      "            Set logging level to \"INFO\"/\"WARNING\" if True/False.\n",
      "        \n",
      "-------------------------\n",
      "load_starpar_vtk: Function to read Athena starpar_vtk file using pythena and\n",
      "        return DataFrame object.\n",
      "\n",
      "        Parameters\n",
      "        ----------\n",
      "        num : int\n",
      "           Snapshot number, e.g., /basedir/starpar/problem_id.xxxx.starpar.vtk\n",
      "        ivtk : int\n",
      "           Read i-th file in the vtk file list. Overrides num if both are given.\n",
      "        force_override : bool\n",
      "           Flag to force read of starpar_vtk file even when pickle exists\n",
      "\n",
      "        Returns\n",
      "        -------\n",
      "        sp : Pandas DataFrame object\n",
      "        \n",
      "-------------------------\n",
      "load_vtk: Function to read Athena vtk file using pythena or yt and \n",
      "        return DataSet object.\n",
      "        \n",
      "        Parameters\n",
      "        ----------\n",
      "        num : int\n",
      "           Snapshot number, e.g., /basedir/vtk/problem_id.xxxx.vtk\n",
      "        ivtk : int\n",
      "           Read i-th file in the vtk file list. Overrides num if both are given.\n",
      "        id0 : bool\n",
      "           Read vtk file in /basedir/id0. Default value is False.\n",
      "        load_method : str\n",
      "           'pyathena', 'pyathena_classic' or 'yt'\n",
      "        \n",
      "        Returns\n",
      "        -------\n",
      "        ds : AthenaDataSet or yt datasets\n",
      "        \n",
      "-------------------------\n",
      "print_all_properties: Print all attributes and callable methods\n",
      "        \n",
      "-------------------------\n"
     ]
    }
   ],
   "source": [
    "s.print_all_properties()"
   ]
  },
  {
   "cell_type": "code",
   "execution_count": 6,
   "metadata": {},
   "outputs": [
    {
     "name": "stdout",
     "output_type": "stream",
     "text": [
      "/perseus/scratch/gpfs/jk11/GC_WIND/test test pyathena cloud\n"
     ]
    }
   ],
   "source": [
    "print(s.basedir, s.basename, s.load_method, s.problem_id)"
   ]
  },
  {
   "cell_type": "code",
   "execution_count": 7,
   "metadata": {},
   "outputs": [
    {
     "name": "stdout",
     "output_type": "stream",
     "text": [
      "dict_keys(['athinput', 'hst', 'sn', 'vtk', 'vtk_id0', 'timeit'])\n"
     ]
    }
   ],
   "source": [
    "print(s.files.keys())"
   ]
  },
  {
   "cell_type": "code",
   "execution_count": 8,
   "metadata": {},
   "outputs": [
    {
     "data": {
      "text/plain": [
       "'/perseus/scratch/gpfs/jk11/GC_WIND/test/id0/cloud.hst'"
      ]
     },
     "execution_count": 8,
     "metadata": {},
     "output_type": "execute_result"
    }
   ],
   "source": [
    "s.files['hst']"
   ]
  },
  {
   "cell_type": "code",
   "execution_count": 9,
   "metadata": {},
   "outputs": [
    {
     "name": "stdout",
     "output_type": "stream",
     "text": [
      "dict_keys(['log', 'job', 'output1', 'output2', 'time', 'domain1', 'problem', 'feedback', 'configure'])\n"
     ]
    }
   ],
   "source": [
    "print(s.par.keys())"
   ]
  },
  {
   "cell_type": "code",
   "execution_count": 10,
   "metadata": {},
   "outputs": [
    {
     "data": {
      "text/plain": [
       "{'level': 0,\n",
       " 'Nx1': 128,\n",
       " 'x1min': -20.0,\n",
       " 'x1max': 20.0,\n",
       " 'bc_ix1': 2,\n",
       " 'bc_ox1': 2,\n",
       " 'Nx2': 128,\n",
       " 'x2min': -20.0,\n",
       " 'x2max': 20.0,\n",
       " 'bc_ix2': 2,\n",
       " 'bc_ox2': 2,\n",
       " 'Nx3': 128,\n",
       " 'x3min': -20.0,\n",
       " 'x3max': 20.0,\n",
       " 'bc_ix3': 2,\n",
       " 'bc_ox3': 2,\n",
       " 'NGrid_x1': 4,\n",
       " 'NGrid_x2': 4,\n",
       " 'NGrid_x3': 4,\n",
       " 'AutoWithNProc': 64}"
      ]
     },
     "execution_count": 10,
     "metadata": {},
     "output_type": "execute_result"
    }
   ],
   "source": [
    "s.par['domain1']"
   ]
  },
  {
   "cell_type": "code",
   "execution_count": 11,
   "metadata": {},
   "outputs": [
    {
     "data": {
      "text/plain": [
       "{'ndim': 3,\n",
       " 'Nx': array([128, 128, 128]),\n",
       " 'le': array([-20., -20., -20.]),\n",
       " 're': array([20., 20., 20.]),\n",
       " 'Lx': array([40., 40., 40.]),\n",
       " 'dx': array([0.3125, 0.3125, 0.3125]),\n",
       " 'center': array([0., 0., 0.]),\n",
       " 'time': None}"
      ]
     },
     "execution_count": 11,
     "metadata": {},
     "output_type": "execute_result"
    }
   ],
   "source": [
    "s.domain # le/re: left/right edge"
   ]
  },
  {
   "cell_type": "markdown",
   "metadata": {},
   "source": [
    "#### Read hst using read_hst \"function\""
   ]
  },
  {
   "cell_type": "code",
   "execution_count": 12,
   "metadata": {},
   "outputs": [
    {
     "data": {
      "text/plain": [
       "Index(['time', 'dt', 'mass', 'totalE', 'x1Mom', 'x2Mom', 'x3Mom', 'x1KE',\n",
       "       'x2KE', 'x3KE', 'gravPE', 'scalar0'],\n",
       "      dtype='object')"
      ]
     },
     "execution_count": 12,
     "metadata": {},
     "output_type": "execute_result"
    }
   ],
   "source": [
    "hst = pa.read_hst(s.files['hst']) # pandas DataFrame\n",
    "hst.columns"
   ]
  },
  {
   "cell_type": "code",
   "execution_count": 13,
   "metadata": {},
   "outputs": [
    {
     "data": {
      "text/html": [
       "<div>\n",
       "<style scoped>\n",
       "    .dataframe tbody tr th:only-of-type {\n",
       "        vertical-align: middle;\n",
       "    }\n",
       "\n",
       "    .dataframe tbody tr th {\n",
       "        vertical-align: top;\n",
       "    }\n",
       "\n",
       "    .dataframe thead th {\n",
       "        text-align: right;\n",
       "    }\n",
       "</style>\n",
       "<table border=\"1\" class=\"dataframe\">\n",
       "  <thead>\n",
       "    <tr style=\"text-align: right;\">\n",
       "      <th></th>\n",
       "      <th>time</th>\n",
       "      <th>dt</th>\n",
       "      <th>mass</th>\n",
       "      <th>totalE</th>\n",
       "      <th>x1Mom</th>\n",
       "      <th>x2Mom</th>\n",
       "      <th>x3Mom</th>\n",
       "      <th>x1KE</th>\n",
       "      <th>x2KE</th>\n",
       "      <th>x3KE</th>\n",
       "      <th>gravPE</th>\n",
       "      <th>scalar0</th>\n",
       "    </tr>\n",
       "  </thead>\n",
       "  <tbody>\n",
       "    <tr>\n",
       "      <th>0</th>\n",
       "      <td>0.000000</td>\n",
       "      <td>0.008692</td>\n",
       "      <td>5.066233</td>\n",
       "      <td>35.747995</td>\n",
       "      <td>0.122991</td>\n",
       "      <td>0.013391</td>\n",
       "      <td>-0.04487</td>\n",
       "      <td>4.256569</td>\n",
       "      <td>3.985544</td>\n",
       "      <td>3.190574</td>\n",
       "      <td>-25.958686</td>\n",
       "      <td>0.101325</td>\n",
       "    </tr>\n",
       "    <tr>\n",
       "      <th>1</th>\n",
       "      <td>0.016177</td>\n",
       "      <td>0.007964</td>\n",
       "      <td>5.066233</td>\n",
       "      <td>20.359936</td>\n",
       "      <td>0.122991</td>\n",
       "      <td>0.013391</td>\n",
       "      <td>-0.04487</td>\n",
       "      <td>4.259500</td>\n",
       "      <td>3.979803</td>\n",
       "      <td>3.198999</td>\n",
       "      <td>-25.948980</td>\n",
       "      <td>0.101325</td>\n",
       "    </tr>\n",
       "    <tr>\n",
       "      <th>2</th>\n",
       "      <td>0.024141</td>\n",
       "      <td>0.007455</td>\n",
       "      <td>5.066234</td>\n",
       "      <td>17.298639</td>\n",
       "      <td>0.122991</td>\n",
       "      <td>0.013391</td>\n",
       "      <td>-0.04487</td>\n",
       "      <td>4.257931</td>\n",
       "      <td>3.980650</td>\n",
       "      <td>3.200918</td>\n",
       "      <td>-25.944781</td>\n",
       "      <td>0.101325</td>\n",
       "    </tr>\n",
       "    <tr>\n",
       "      <th>3</th>\n",
       "      <td>0.031596</td>\n",
       "      <td>0.007498</td>\n",
       "      <td>5.066235</td>\n",
       "      <td>15.848075</td>\n",
       "      <td>0.122991</td>\n",
       "      <td>0.013391</td>\n",
       "      <td>-0.04487</td>\n",
       "      <td>4.255165</td>\n",
       "      <td>3.981731</td>\n",
       "      <td>3.201279</td>\n",
       "      <td>-25.941030</td>\n",
       "      <td>0.101325</td>\n",
       "    </tr>\n",
       "    <tr>\n",
       "      <th>4</th>\n",
       "      <td>0.046823</td>\n",
       "      <td>0.007476</td>\n",
       "      <td>5.066237</td>\n",
       "      <td>14.888028</td>\n",
       "      <td>0.122991</td>\n",
       "      <td>0.013391</td>\n",
       "      <td>-0.04487</td>\n",
       "      <td>4.248077</td>\n",
       "      <td>3.984087</td>\n",
       "      <td>3.200108</td>\n",
       "      <td>-25.933725</td>\n",
       "      <td>0.101325</td>\n",
       "    </tr>\n",
       "  </tbody>\n",
       "</table>\n",
       "</div>"
      ],
      "text/plain": [
       "       time        dt      mass     totalE     x1Mom     x2Mom    x3Mom  \\\n",
       "0  0.000000  0.008692  5.066233  35.747995  0.122991  0.013391 -0.04487   \n",
       "1  0.016177  0.007964  5.066233  20.359936  0.122991  0.013391 -0.04487   \n",
       "2  0.024141  0.007455  5.066234  17.298639  0.122991  0.013391 -0.04487   \n",
       "3  0.031596  0.007498  5.066235  15.848075  0.122991  0.013391 -0.04487   \n",
       "4  0.046823  0.007476  5.066237  14.888028  0.122991  0.013391 -0.04487   \n",
       "\n",
       "       x1KE      x2KE      x3KE     gravPE   scalar0  \n",
       "0  4.256569  3.985544  3.190574 -25.958686  0.101325  \n",
       "1  4.259500  3.979803  3.198999 -25.948980  0.101325  \n",
       "2  4.257931  3.980650  3.200918 -25.944781  0.101325  \n",
       "3  4.255165  3.981731  3.201279 -25.941030  0.101325  \n",
       "4  4.248077  3.984087  3.200108 -25.933725  0.101325  "
      ]
     },
     "execution_count": 13,
     "metadata": {},
     "output_type": "execute_result"
    }
   ],
   "source": [
    "hst.head()"
   ]
  },
  {
   "cell_type": "code",
   "execution_count": 14,
   "metadata": {},
   "outputs": [
    {
     "data": {
      "image/png": "[encoded data removed]",
      "text/plain": [
       "<Figure size 432x288 with 1 Axes>"
      ]
     },
     "metadata": {
      "needs_background": "light"
     },
     "output_type": "display_data"
    }
   ],
   "source": [
    "ax = hst.plot('time',y=['dt','mass']) # dt_mhd and gas mass in code units\n",
    "ax.set_yscale('log')"
   ]
  },
  {
   "cell_type": "code",
   "execution_count": 15,
   "metadata": {},
   "outputs": [
    {
     "name": "stdout",
     "output_type": "stream",
     "text": [
      "[0, 1, 2, 3, 4, 5, 6, 7, 8, 9, 10, 11, 12, 13, 14, 15, 16, 17, 18, 19, 20, 21, 22, 23, 24, 25, 26, 27, 28, 29, 30, 31, 32, 33, 34, 35, 36, 37, 38, 39, 40, 41, 42, 43, 44, 45, 46, 47, 48, 49, 50, 51, 52, 53, 54, 55, 56, 57, 58, 59, 60, 61, 62, 63, 64, 65, 66, 67, 68, 69, 70, 71, 72, 73, 74, 75, 76, 77, 78, 79, 80, 81, 82, 83, 84, 85, 86, 87, 88, 89, 90, 91, 92, 93, 94, 95, 96, 97, 98, 99, 100]\n"
     ]
    }
   ],
   "source": [
    "print(s.nums) # all vtk file numbers (starts from 0)"
   ]
  },
  {
   "cell_type": "markdown",
   "metadata": {},
   "source": [
    "__One can laod vtk file using ``ds = pa.read_vtk(s.files['vtk_id0'][num])``, but more conveniently__"
   ]
  },
  {
   "cell_type": "code",
   "execution_count": 16,
   "metadata": {},
   "outputs": [],
   "source": [
    "num = s.nums[30]\n",
    "ds = s.load_vtk(num=num)"
   ]
  },
  {
   "cell_type": "code",
   "execution_count": 17,
   "metadata": {},
   "outputs": [
    {
     "name": "stdout",
     "output_type": "stream",
     "text": [
      "Help on AthenaDataSet in module pyathena.io.read_vtk object:\n",
      "\n",
      "class AthenaDataSet(builtins.object)\n",
      " |  AthenaDataSet(filename, id0_only=False)\n",
      " |  \n",
      " |  Methods defined here:\n",
      " |  \n",
      " |  __init__(self, filename, id0_only=False)\n",
      " |      Class to read athena vtk file.\n",
      " |      \n",
      " |      Parameters\n",
      " |      ----------\n",
      " |      filename : string\n",
      " |          Name of the file to open, including extension\n",
      " |      id0_only : bool\n",
      " |          Flag to enforce to read vtk file in id0 directory only.\n",
      " |          Default value is False.\n",
      " |  \n",
      " |  get_cc_pos(self)\n",
      " |      Compute cell center positions\n",
      " |      \n",
      " |      Returns\n",
      " |      -------\n",
      " |      xc : numpy array\n",
      " |          Unique cell-centered cooridnates\n",
      " |  \n",
      " |  get_field(self, field='density', le=None, re=None, as_xarray=False)\n",
      " |      Read fields data.\n",
      " |      \n",
      " |      Parameters\n",
      " |      ----------\n",
      " |      field : (list of) string\n",
      " |          The name of the field(s) to be read.\n",
      " |      le : sequence of floats\n",
      " |         Left edge. Default value is the domain left edge.\n",
      " |      re : sequence of floats\n",
      " |         Right edge. Default value is the domain right edge.\n",
      " |      as_xarray : bool\n",
      " |         Return array as an xarray Dataset. Default value is False.\n",
      " |  \n",
      " |  get_slice(self, axis, field='density', pos='c', method='nearest')\n",
      " |      Read fields data.\n",
      " |      \n",
      " |      Parameters\n",
      " |      ----------\n",
      " |      axis : str\n",
      " |          Axis to slice along. 'x' or 'y' or 'z'\n",
      " |      field : (list of) str\n",
      " |          The name of the field(s) to be read.\n",
      " |      pos : float or str\n",
      " |          Slice through If 'c' or 'center', get a slice through the domain\n",
      " |          center. Default value is 'c'.\n",
      " |      method : str\n",
      " |      \n",
      " |      Returns\n",
      " |      -------\n",
      " |      slc : xarray dataset\n",
      " |          An xarray dataset containing slices.\n",
      " |  \n",
      " |  set_region(self, le=None, re=None)\n",
      " |      Set region and find overlapping grids.\n",
      " |  \n",
      " |  ----------------------------------------------------------------------\n",
      " |  Data descriptors defined here:\n",
      " |  \n",
      " |  __dict__\n",
      " |      dictionary for instance variables (if defined)\n",
      " |  \n",
      " |  __weakref__\n",
      " |      list of weak references to the object (if defined)\n",
      "\n"
     ]
    }
   ],
   "source": [
    "help(ds)"
   ]
  },
  {
   "cell_type": "code",
   "execution_count": 18,
   "metadata": {},
   "outputs": [
    {
     "data": {
      "text/plain": [
       "{'all_grid_equal': True,\n",
       " 'ngrid': 64,\n",
       " 'le': array([-20., -20., -20.], dtype=float32),\n",
       " 're': array([20., 20., 20.], dtype=float32),\n",
       " 'dx': array([0.3125, 0.3125, 0.3125], dtype=float32),\n",
       " 'Lx': array([40., 40., 40.], dtype=float32),\n",
       " 'center': array([0., 0., 0.], dtype=float32),\n",
       " 'Nx': array([128, 128, 128]),\n",
       " 'ndim': 3,\n",
       " 'time': 1.508373}"
      ]
     },
     "execution_count": 18,
     "metadata": {},
     "output_type": "execute_result"
    }
   ],
   "source": [
    "ds.domain"
   ]
  },
  {
   "cell_type": "markdown",
   "metadata": {},
   "source": [
    "__get_field(): read 3d fields__"
   ]
  },
  {
   "cell_type": "code",
   "execution_count": 19,
   "metadata": {},
   "outputs": [
    {
     "name": "stdout",
     "output_type": "stream",
     "text": [
      "Help on method get_field in module pyathena.io.read_vtk:\n",
      "\n",
      "get_field(field='density', le=None, re=None, as_xarray=False) method of pyathena.io.read_vtk.AthenaDataSet instance\n",
      "    Read fields data.\n",
      "    \n",
      "    Parameters\n",
      "    ----------\n",
      "    field : (list of) string\n",
      "        The name of the field(s) to be read.\n",
      "    le : sequence of floats\n",
      "       Left edge. Default value is the domain left edge.\n",
      "    re : sequence of floats\n",
      "       Right edge. Default value is the domain right edge.\n",
      "    as_xarray : bool\n",
      "       Return array as an xarray Dataset. Default value is False.\n",
      "\n"
     ]
    }
   ],
   "source": [
    "help(ds.get_field) # Setting (le, re) manually does not work perfectly"
   ]
  },
  {
   "cell_type": "code",
   "execution_count": 20,
   "metadata": {},
   "outputs": [
    {
     "data": {
      "text/plain": [
       "('/perseus/scratch/gpfs/jk11/GC_WIND/test', 'vtk')"
      ]
     },
     "execution_count": 20,
     "metadata": {},
     "output_type": "execute_result"
    }
   ],
   "source": [
    "ds.dirname, ds.ext"
   ]
  },
  {
   "cell_type": "code",
   "execution_count": 21,
   "metadata": {},
   "outputs": [
    {
     "data": {
      "text/plain": [
       "['density',\n",
       " 'velocity',\n",
       " 'pressure',\n",
       " 'gravitational_potential',\n",
       " 'temperature',\n",
       " 'heat_rate',\n",
       " 'cool_rate',\n",
       " 'specific_scalar[0]']"
      ]
     },
     "execution_count": 21,
     "metadata": {},
     "output_type": "execute_result"
    }
   ],
   "source": [
    "# field names extracted from the raw vtk file\n",
    "# velocity, magnetic_fields are vectors\n",
    "ds.field_list"
   ]
  },
  {
   "cell_type": "code",
   "execution_count": 22,
   "metadata": {},
   "outputs": [],
   "source": [
    "dat = ds.get_field(['density','temperature','velocity'])"
   ]
  },
  {
   "cell_type": "code",
   "execution_count": 23,
   "metadata": {},
   "outputs": [
    {
     "data": {
      "text/plain": [
       "dict_keys(['density', 'temperature', 'velocity'])"
      ]
     },
     "execution_count": 23,
     "metadata": {},
     "output_type": "execute_result"
    }
   ],
   "source": [
    "dat.keys()"
   ]
  },
  {
   "cell_type": "markdown",
   "metadata": {},
   "source": [
    "__Indexing follows the convention of the Athena code: for scalar fields, the innermost (fastest running) index is the x-direction, while the outermost index is the z-direction__"
   ]
  },
  {
   "cell_type": "code",
   "execution_count": 24,
   "metadata": {},
   "outputs": [
    {
     "data": {
      "text/plain": [
       "(numpy.ndarray, (128, 128, 128), (128, 128, 128, 3))"
      ]
     },
     "execution_count": 24,
     "metadata": {},
     "output_type": "execute_result"
    }
   ],
   "source": [
    "type(dat['density']), dat['density'].shape, dat['velocity'].shape"
   ]
  },
  {
   "cell_type": "markdown",
   "metadata": {},
   "source": [
    "__Plot slice of density and temperature at z=0__"
   ]
  },
  {
   "cell_type": "code",
   "execution_count": 25,
   "metadata": {},
   "outputs": [
    {
     "data": {
      "text/plain": [
       "<matplotlib.image.AxesImage at 0x2ae91ec92358>"
      ]
     },
     "execution_count": 25,
     "metadata": {},
     "output_type": "execute_result"
    },
    {
     "data": {
      "image/png": "[encoded data removed]",
      "text/plain": [
       "<Figure size 720x360 with 2 Axes>"
      ]
     },
     "metadata": {
      "needs_background": "light"
     },
     "output_type": "display_data"
    }
   ],
   "source": [
    "iz = ds.domain['Nx'][2] // 2\n",
    "fig, axes = plt.subplots(1, 2, figsize=(10,5))\n",
    "cmap_temp = pa.cmap_shift(mpl.cm.RdYlBu_r, midpoint=3.0/7.0)\n",
    "axes[0].imshow(dat['density'][iz,:,:], norm=LogNorm(), origin='lower')\n",
    "axes[1].imshow(dat['temperature'][iz,:,:], norm=LogNorm(), origin='lower', \n",
    "               cmap=cmap_temp)"
   ]
  },
  {
   "cell_type": "markdown",
   "metadata": {},
   "source": [
    "__With ``xarray=True`` option, read dataset as a xarray DataSet__\n",
    "\n",
    "__See http://xarray.pydata.org/en/stable/quick-overview.html for a quick demonstration__"
   ]
  },
  {
   "cell_type": "code",
   "execution_count": 26,
   "metadata": {},
   "outputs": [],
   "source": [
    "dat = ds.get_field(['density', 'temperature'], as_xarray=True)"
   ]
  },
  {
   "cell_type": "code",
   "execution_count": 27,
   "metadata": {},
   "outputs": [
    {
     "data": {
      "text/plain": [
       "<xarray.Dataset>\n",
       "Dimensions:      (x: 128, y: 128, z: 128)\n",
       "Coordinates:\n",
       "  * x            (x) float64 -19.84 -19.53 -19.22 -18.91 ... 19.22 19.53 19.84\n",
       "  * y            (y) float64 -19.84 -19.53 -19.22 -18.91 ... 19.22 19.53 19.84\n",
       "  * z            (z) float64 -19.84 -19.53 -19.22 -18.91 ... 19.22 19.53 19.84\n",
       "Data variables:\n",
       "    density      (z, y, x) float32 0.6546541 0.6552311 ... 0.65515816 0.65457916\n",
       "    temperature  (z, y, x) float32 2753.3438 2752.2551 ... 2752.1624 2753.2495\n",
       "Attributes:\n",
       "    domain:   {'all_grid_equal': True, 'ngrid': 64, 'le': array([-20., -20., ..."
      ]
     },
     "execution_count": 27,
     "metadata": {},
     "output_type": "execute_result"
    }
   ],
   "source": [
    "dat"
   ]
  },
  {
   "cell_type": "code",
   "execution_count": 28,
   "metadata": {},
   "outputs": [
    {
     "data": {
      "text/plain": [
       "<xarray.DataArray 'x' (x: 128)>\n",
       "array([-19.84375, -19.53125, -19.21875, -18.90625, -18.59375, -18.28125,\n",
       "       -17.96875, -17.65625, -17.34375, -17.03125, -16.71875, -16.40625,\n",
       "       -16.09375, -15.78125, -15.46875, -15.15625, -14.84375, -14.53125,\n",
       "       -14.21875, -13.90625, -13.59375, -13.28125, -12.96875, -12.65625,\n",
       "       -12.34375, -12.03125, -11.71875, -11.40625, -11.09375, -10.78125,\n",
       "       -10.46875, -10.15625,  -9.84375,  -9.53125,  -9.21875,  -8.90625,\n",
       "        -8.59375,  -8.28125,  -7.96875,  -7.65625,  -7.34375,  -7.03125,\n",
       "        -6.71875,  -6.40625,  -6.09375,  -5.78125,  -5.46875,  -5.15625,\n",
       "        -4.84375,  -4.53125,  -4.21875,  -3.90625,  -3.59375,  -3.28125,\n",
       "        -2.96875,  -2.65625,  -2.34375,  -2.03125,  -1.71875,  -1.40625,\n",
       "        -1.09375,  -0.78125,  -0.46875,  -0.15625,   0.15625,   0.46875,\n",
       "         0.78125,   1.09375,   1.40625,   1.71875,   2.03125,   2.34375,\n",
       "         2.65625,   2.96875,   3.28125,   3.59375,   3.90625,   4.21875,\n",
       "         4.53125,   4.84375,   5.15625,   5.46875,   5.78125,   6.09375,\n",
       "         6.40625,   6.71875,   7.03125,   7.34375,   7.65625,   7.96875,\n",
       "         8.28125,   8.59375,   8.90625,   9.21875,   9.53125,   9.84375,\n",
       "        10.15625,  10.46875,  10.78125,  11.09375,  11.40625,  11.71875,\n",
       "        12.03125,  12.34375,  12.65625,  12.96875,  13.28125,  13.59375,\n",
       "        13.90625,  14.21875,  14.53125,  14.84375,  15.15625,  15.46875,\n",
       "        15.78125,  16.09375,  16.40625,  16.71875,  17.03125,  17.34375,\n",
       "        17.65625,  17.96875,  18.28125,  18.59375,  18.90625,  19.21875,\n",
       "        19.53125,  19.84375])\n",
       "Coordinates:\n",
       "  * x        (x) float64 -19.84 -19.53 -19.22 -18.91 ... 18.91 19.22 19.53 19.84"
      ]
     },
     "execution_count": 28,
     "metadata": {},
     "output_type": "execute_result"
    }
   ],
   "source": [
    "dat.x"
   ]
  },
  {
   "cell_type": "markdown",
   "metadata": {},
   "source": [
    "__get_slice() method__"
   ]
  },
  {
   "cell_type": "code",
   "execution_count": 29,
   "metadata": {},
   "outputs": [
    {
     "name": "stdout",
     "output_type": "stream",
     "text": [
      "Help on method get_slice in module pyathena.io.read_vtk:\n",
      "\n",
      "get_slice(axis, field='density', pos='c', method='nearest') method of pyathena.io.read_vtk.AthenaDataSet instance\n",
      "    Read fields data.\n",
      "    \n",
      "    Parameters\n",
      "    ----------\n",
      "    axis : str\n",
      "        Axis to slice along. 'x' or 'y' or 'z'\n",
      "    field : (list of) str\n",
      "        The name of the field(s) to be read.\n",
      "    pos : float or str\n",
      "        Slice through If 'c' or 'center', get a slice through the domain\n",
      "        center. Default value is 'c'.\n",
      "    method : str\n",
      "    \n",
      "    Returns\n",
      "    -------\n",
      "    slc : xarray dataset\n",
      "        An xarray dataset containing slices.\n",
      "\n"
     ]
    }
   ],
   "source": [
    "help(ds.get_slice)"
   ]
  },
  {
   "cell_type": "code",
   "execution_count": 30,
   "metadata": {},
   "outputs": [],
   "source": [
    "slc = ds.get_slice('z', ['density', 'temperature', 'pressure'])"
   ]
  },
  {
   "cell_type": "code",
   "execution_count": 31,
   "metadata": {},
   "outputs": [
    {
     "data": {
      "text/plain": [
       "<xarray.Dataset>\n",
       "Dimensions:      (x: 128, y: 128)\n",
       "Coordinates:\n",
       "  * x            (x) float64 -19.84 -19.53 -19.22 -18.91 ... 19.22 19.53 19.84\n",
       "  * y            (y) float64 -19.84 -19.53 -19.22 -18.91 ... 19.22 19.53 19.84\n",
       "    z            float64 0.1562\n",
       "Data variables:\n",
       "    density      (y, x) float32 0.6519747 0.65298605 ... 0.6530518 0.6520349\n",
       "    temperature  (y, x) float32 2753.9338 2752.022 ... 2752.1035 2754.0151\n",
       "    pressure     (y, x) float32 11.440019 11.449812 ... 11.4513035 11.441414\n",
       "Attributes:\n",
       "    domain:   {'all_grid_equal': True, 'ngrid': 64, 'le': array([-20., -20., ..."
      ]
     },
     "execution_count": 31,
     "metadata": {},
     "output_type": "execute_result"
    }
   ],
   "source": [
    "slc"
   ]
  },
  {
   "cell_type": "code",
   "execution_count": 32,
   "metadata": {},
   "outputs": [
    {
     "data": {
      "text/plain": [
       "{'all_grid_equal': True,\n",
       " 'ngrid': 64,\n",
       " 'le': array([-20., -20., -20.], dtype=float32),\n",
       " 're': array([20., 20., 20.], dtype=float32),\n",
       " 'dx': array([0.3125, 0.3125, 0.3125], dtype=float32),\n",
       " 'Lx': array([40., 40., 40.], dtype=float32),\n",
       " 'center': array([0., 0., 0.], dtype=float32),\n",
       " 'Nx': array([128, 128, 128]),\n",
       " 'ndim': 3,\n",
       " 'time': 1.508373}"
      ]
     },
     "execution_count": 32,
     "metadata": {},
     "output_type": "execute_result"
    }
   ],
   "source": [
    "slc.domain"
   ]
  },
  {
   "cell_type": "code",
   "execution_count": 33,
   "metadata": {},
   "outputs": [
    {
     "data": {
      "text/plain": [
       "(xarray.core.dataset.Dataset, xarray.core.dataarray.DataArray, numpy.ndarray)"
      ]
     },
     "execution_count": 33,
     "metadata": {},
     "output_type": "execute_result"
    }
   ],
   "source": [
    "type(slc), type(slc.density), type(slc.density.data)"
   ]
  },
  {
   "cell_type": "code",
   "execution_count": 34,
   "metadata": {},
   "outputs": [
    {
     "data": {
      "image/png": "[encoded data removed]",
      "text/plain": [
       "<Figure size 936x360 with 4 Axes>"
      ]
     },
     "metadata": {
      "needs_background": "light"
     },
     "output_type": "display_data"
    }
   ],
   "source": [
    "fig, axes = plt.subplots(1, 2, figsize=(13, 5))\n",
    "im1 = slc['density'].plot(ax=axes[0], norm=LogNorm())\n",
    "im2 = slc['temperature'].plot(ax=axes[1], norm=LogNorm(), cmap=cmap_temp)\n",
    "for im in (im1, im2):\n",
    "    im.axes.set_aspect('equal')"
   ]
  },
  {
   "cell_type": "markdown",
   "metadata": {},
   "source": [
    "## 2d histogram"
   ]
  },
  {
   "cell_type": "code",
   "execution_count": 35,
   "metadata": {},
   "outputs": [
    {
     "data": {
      "text/plain": [
       "Text(0, 0.5, '$\\\\log_{10}\\\\,T$')"
      ]
     },
     "execution_count": 35,
     "metadata": {},
     "output_type": "execute_result"
    },
    {
     "data": {
      "image/png": "[encoded data removed]",
      "text/plain": [
       "<Figure size 432x288 with 1 Axes>"
      ]
     },
     "metadata": {
      "needs_background": "light"
     },
     "output_type": "display_data"
    }
   ],
   "source": [
    "nH = slc['density'].data.flatten()\n",
    "lognH = np.log10(nH)\n",
    "logT = np.log10(slc['temperature'].data.flatten())\n",
    "plt.hexbin(lognH, logT, nH, mincnt=1)\n",
    "plt.xlabel(r'$\\log_{10}\\,n_{\\rm H}$')\n",
    "plt.ylabel(r'$\\log_{10}\\,T$')"
   ]
  },
  {
   "cell_type": "code",
   "execution_count": null,
   "metadata": {},
   "outputs": [],
   "source": []
  }
 ],
 "metadata": {
  "kernelspec": {
   "display_name": "Python 3",
   "language": "python",
   "name": "python3"
  },
  "language_info": {
   "codemirror_mode": {
    "name": "ipython",
    "version": 3
   },
   "file_extension": ".py",
   "mimetype": "text/x-python",
   "name": "python",
   "nbconvert_exporter": "python",
   "pygments_lexer": "ipython3",
   "version": "3.7.1"
  }
 },
 "nbformat": 4,
 "nbformat_minor": 2
}
